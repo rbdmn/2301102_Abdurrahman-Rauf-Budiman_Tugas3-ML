{
 "cells": [
  {
   "cell_type": "markdown",
   "metadata": {},
   "source": [
    "**Analisis Data Sektor Pariwisata di Indonesia untuk Mendapatkan Informasi yang Menarik**"
   ]
  },
  {
   "cell_type": "markdown",
   "metadata": {},
   "source": [
    "**Kelompok 6 Ilmu Komputer Kelas C2**\n",
    "- Naufal Fakhri Al-Najieb (2309648)\n",
    "- Abdurrahman Rauf Budiman (2301102)\n",
    "- Haniel Septian Putra Alren (2310978)\n",
    "- Muhammad Radhi Maulana (2311119)\n",
    "- Yoga Ilham Prasetio (2304539)"
   ]
  },
  {
   "cell_type": "code",
   "execution_count": 1,
   "metadata": {},
   "outputs": [],
   "source": [
    "# Import semua Library\n",
    "\n",
    "import pandas as pd\n",
    "from sklearn.cluster import KMeans\n",
    "from sklearn.model_selection import train_test_split\n",
    "from sklearn.ensemble import RandomForestClassifier\n",
    "from xgboost import XGBClassifier\n",
    "from sklearn.metrics import log_loss\n",
    "from sklearn.preprocessing import StandardScaler\n",
    "import numpy as np"
   ]
  },
  {
   "cell_type": "code",
   "execution_count": null,
   "metadata": {},
   "outputs": [],
   "source": [
    "# Praproses EDA\n",
    "# Load data trainingnya\n",
    "train_data = pd.read_csv('transact_train.txt', delimiter='|')  # Sesuaikan delimiter jika diperlukan\n",
    "\n",
    "# Praproses data\n",
    "train_data.replace('?', np.nan, inplace=True)\n",
    "train_data.fillna(0, inplace=True)\n",
    "\n",
    "# mengkodekan target variabel\n",
    "train_data['order'] = train_data['order'].apply(lambda x: 1 if x == 'y' else 0)\n",
    "\n",
    "# Pisahkan fitur dan target\n",
    "X = train_data.drop(columns=['order', 'sessionNo'])\n",
    "y = train_data['order']\n",
    "\n",
    "# Konvert non-numeric columns to numeric\n",
    "X = X.apply(pd.to_numeric, errors='coerce').fillna(0)\n",
    "\n",
    "# skala fitur\n",
    "scaler = StandardScaler()\n",
    "X = scaler.fit_transform(X)"
   ]
  },
  {
   "cell_type": "code",
   "execution_count": null,
   "metadata": {},
   "outputs": [],
   "source": [
    "# Kita pake dua klasifikasi, yaitu RandomForest dan XGBoost\n",
    "\n",
    "# Data di split buat training dan validasi\n",
    "X_train, X_val, y_train, y_val = train_test_split(X, y, test_size=0.2, random_state=69)\n",
    "\n",
    "# Latih Klasifikasi RandomForest\n",
    "model = RandomForestClassifier(n_estimators=100, max_depth=30, random_state=69)\n",
    "model.fit(X_train, y_train)\n",
    "\n",
    "# Latih Klasifikasi XGBoost\n",
    "model2 = XGBClassifier(n_estimators=100, max_depth=30, learning_rate=0.1, random_state=69)\n",
    "model2.fit(X_train, y_train)"
   ]
  },
  {
   "cell_type": "code",
   "execution_count": null,
   "metadata": {},
   "outputs": [],
   "source": [
    "# Evaluasi model pada validasi data\n",
    "\n",
    "y_val_pred_proba = model.predict_proba(X_val)[:, 1]  # Dapatkan probabilitas untuk kelas positif (order=1)\n",
    "log_loss_score = log_loss(y_val, y_val_pred_proba)\n",
    "print(\"Validation Log Loss untuk model pertama:\", log_loss_score)\n",
    "\n",
    "y_val_pred_proba_2 = model2.predict_proba(X_val)[:, 1]  # Dapatkan probabilitas untuk kelas positif (order=1)\n",
    "log_loss_score_2 = log_loss(y_val, y_val_pred_proba_2)\n",
    "print(\"Validation Log Loss untuk model kedua:\", log_loss_score_2)\n",
    "\n",
    "# Load data klasifikasi (data pengujian)\n",
    "test_data = pd.read_csv('transact_class.txt', delimiter='|')\n",
    "session_numbers = test_data['sessionNo']\n",
    "\n",
    "# Preproses data pengujian serupa dengan data latih\n",
    "test_data.replace('?', np.nan, inplace=True)\n",
    "test_data.fillna(0, inplace=True)  # Gantikan NaN dengan nilai 0\n",
    "X_test = test_data.drop(columns=['sessionNo'])\n",
    "\n",
    "# Konversi kolom ke tipe numerik dan isi NaN dengan 0\n",
    "X_test = X_test.apply(pd.to_numeric, errors='coerce').fillna(0)\n",
    "X_test = scaler.transform(X_test)  # Standarisasi data pengujian\n",
    "\n",
    "# Prediksi probabilitas untuk data pengujian\n",
    "predictions_proba = model.predict_proba(X_test)[:, 1]  # Dapatkan probabilitas untuk 'order=1' dari model pertama\n",
    "predictions_proba_2 = model2.predict_proba(X_test)[:, 1]  # Dapatkan probabilitas untuk 'order=1' dari model kedua\n"
   ]
  },
  {
   "cell_type": "code",
   "execution_count": null,
   "metadata": {},
   "outputs": [],
   "source": [
    "# Simpan prediksi untuk model pertama\n",
    "temp = pd.DataFrame({\n",
    "    'sessionNo': session_numbers,  # Nomor sesi yang ada di data pengujian\n",
    "    'prediction': predictions_proba  # Probabilitas prediksi dari model pertama\n",
    "})\n",
    "temp = temp.groupby('sessionNo', as_index=False).mean()  # Mengelompokkan berdasarkan sessionNo dan menghitung rata-rata prediksi\n",
    "\n",
    "# Simpan prediksi untuk model kedua\n",
    "temp2 = pd.DataFrame({\n",
    "    'sessionNo': session_numbers,  # Nomor sesi yang ada di data pengujian\n",
    "    'prediction': predictions_proba_2  # Probabilitas prediksi dari model kedua\n",
    "})\n",
    "temp2 = temp2.groupby('sessionNo', as_index=False).mean()  # Mengelompokkan berdasarkan sessionNo dan menghitung rata-rata prediksi\n",
    "\n",
    "# Ambil prediksi hasil rata-rata dari kedua model\n",
    "predictions_proba = temp['prediction']  # Prediksi dari model pertama\n",
    "predictions_proba_2 = temp2['prediction']  # Prediksi dari model kedua\n",
    "\n",
    "# Memuat data final untuk perbandingan\n",
    "final_prediction = pd.read_csv('DMC 2013_realclass_task1/realclass_t1.txt', delimiter='|')  # Memuat data sebenarnya\n",
    "final_prediction = final_prediction['prediction']  # Ambil kolom prediksi asli untuk perhitungan log loss\n",
    "\n",
    "# Menghitung Log Loss untuk model pertama\n",
    "log_loss_score = log_loss(final_prediction.apply(pd.to_numeric, errors='coerce'), predictions_proba)\n",
    "\n",
    "# Menghitung Log Loss untuk model kedua\n",
    "log_loss_score_2 = log_loss(final_prediction.apply(pd.to_numeric, errors='coerce'), predictions_proba_2)\n",
    "\n",
    "# Membandingkan kedua model dan memilih yang terbaik (berdasarkan nilai log loss lebih kecil)\n",
    "if(log_loss_score_2 < log_loss_score):\n",
    "    predictions_proba = predictions_proba_2  # Jika model kedua lebih baik, pilih prediksi dari model kedua\n",
    "\n",
    "# Menghitung Log Loss setelah memilih model terbaik\n",
    "log_loss_score_final = log_loss(final_prediction.apply(pd.to_numeric, errors='coerce'), predictions_proba)\n",
    "print(\"Final Log Loss : \", log_loss_score_final)  # Menampilkan nilai Log Loss final\n",
    "\n",
    "# Menyimpan hasil prediksi yang sudah dipilih dalam format CSV\n",
    "output = pd.DataFrame({\n",
    "    'sessionNo': session_numbers,  # Nomor sesi\n",
    "    'prediction': predictions_proba  # Prediksi yang dipilih\n",
    "})\n",
    "\n",
    "# Menyimpan prediksi ke dalam file CSV dengan pemisah '|' dan tanpa menyertakan indeks\n",
    "output.to_csv('teamname_task1.txt', sep='|', index=False, header=True)"
   ]
  }
 ],
 "metadata": {
  "kernelspec": {
   "display_name": "Python 3",
   "language": "python",
   "name": "python3"
  },
  "language_info": {
   "codemirror_mode": {
    "name": "ipython",
    "version": 3
   },
   "file_extension": ".py",
   "mimetype": "text/x-python",
   "name": "python",
   "nbconvert_exporter": "python",
   "pygments_lexer": "ipython3",
   "version": "3.11.4"
  }
 },
 "nbformat": 4,
 "nbformat_minor": 2
}
